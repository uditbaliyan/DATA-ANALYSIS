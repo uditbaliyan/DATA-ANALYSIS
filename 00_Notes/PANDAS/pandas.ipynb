{
 "cells": [
  {
   "cell_type": "markdown",
   "metadata": {},
   "source": [
    "# Pandas data structures\n",
    "• Series\n",
    "• DataFrame"
   ]
  },
  {
   "cell_type": "markdown",
   "metadata": {},
   "source": [
    "# Series\n",
    "• Series is a one-dimensional labeled array capable of holding any data type\n",
    "(integers, strings, floating point numbers, Python objects, etc.). \n",
    "The axis labels are collectively referred to as the index.\n",
    "\n",
    "# The basic method to create a Series is to call:\n",
    "• s = pd.Series(data, index=index)\n",
    "• Here, data can be many different things:\n",
    "• an ndarray\n",
    "• a Python dict\n",
    "• a scalar value (like 5)\n",
    "• The passed index is a list of axis labels.\n",
    "Thus, this separates into a few cases depending on what data is."
   ]
  },
  {
   "cell_type": "code",
   "execution_count": null,
   "metadata": {},
   "outputs": [],
   "source": [
    "s = pd.Series(data, index=index)"
   ]
  },
  {
   "cell_type": "markdown",
   "metadata": {},
   "source": [
    "# Series object attributes\n",
    "\n",
    "# Series.index\n",
    "It is used to get or set the index labels of the given Series object.\n",
    "# Series.shape\n",
    "It returns a tuple of shape of the data.\n",
    "# Series.dtype\n",
    "It returns the data type of the data.\n",
    "# Series.size\n",
    "It returns the size of the data.\n",
    "# Series.empty\n",
    "It returns True if Series object is empty, otherwise returns false.\n",
    "# Series.hasnans\n",
    "It returns True if there are any NaN values, otherwise returns false.\n",
    "# Series.nbytes\n",
    "It returns the number of bytes in the data.\n",
    "# Series.ndim\n",
    "It returns the number of dimensions in the data.\n",
    "# Series.itemsize\n",
    "It returns the size of the datatype of item. #removed in latest version of pandas"
   ]
  },
  {
   "cell_type": "markdown",
   "metadata": {},
   "source": [
    "# Dataframes\n",
    "\n",
    "• Pandas DataFrame is two-dimensional size-mutable, potentially\n",
    "heterogeneous tabular data structure with labeled axes (rows and\n",
    "columns).\n",
    "• The DataFrame has both a row and column index; it can be thought of\n",
    "as a dict of Series all sharing the same index.\n",
    "• A Data frame is a two-dimensional data structure, i.e., data is aligned\n",
    "in a tabular fashion in rows and columns.\n",
    "• Pandas DataFrame consists of three principal components, the data,\n",
    "rows, and columns"
   ]
  },
  {
   "cell_type": "code",
   "execution_count": null,
   "metadata": {},
   "outputs": [],
   "source": [
    "\n"
   ]
  }
 ],
 "metadata": {
  "kernelspec": {
   "display_name": "env",
   "language": "python",
   "name": "python3"
  },
  "language_info": {
   "codemirror_mode": {
    "name": "ipython",
    "version": 3
   },
   "file_extension": ".py",
   "mimetype": "text/x-python",
   "name": "python",
   "nbconvert_exporter": "python",
   "pygments_lexer": "ipython3",
   "version": "3.11.2"
  }
 },
 "nbformat": 4,
 "nbformat_minor": 2
}
