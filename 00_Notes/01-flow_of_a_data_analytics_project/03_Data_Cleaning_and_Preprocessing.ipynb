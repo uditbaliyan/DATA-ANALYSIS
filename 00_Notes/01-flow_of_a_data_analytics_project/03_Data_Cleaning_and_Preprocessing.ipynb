{
 "cells": [
  {
   "cell_type": "markdown",
   "metadata": {},
   "source": [
    "# 1. Understanding the Data\n",
    "Before any cleaning or preprocessing, it's essential to understand the dataset:\n",
    "\n",
    "Data Types: Identify the types of data (e.g., numerical, categorical, text).\n",
    "Data Distribution: Understand the distribution of the data (e.g., normal distribution, skewed distribution).\n",
    "Domain Knowledge: Leverage domain-specific knowledge to understand the context and significance of the data.\n",
    "# 2. Handling Missing Data\n",
    "\n",
    "Missing data can significantly affect the quality of analysis and model performance:\n",
    "\n",
    "Identify Missing Data: Use functions to detect missing values (e.g., isnull() in pandas).\n",
    "Handling Strategies:\n",
    "Remove Missing Data: Drop rows or columns with missing values (dropna()).\n",
    "Impute Missing Data: Replace missing values with a specific value (e.g., mean, median, mode) using fillna().\n",
    "Interpolate Missing Data: Use interpolation methods for time series data.\n",
    "\n",
    "# 3. Dealing with Outliers\n",
    "Outliers can distort statistical analyses and models:\n",
    "\n",
    "Detection: Identify outliers using statistical methods (e.g., Z-score, IQR).\n",
    "Handling Strategies:\n",
    "Remove Outliers: Drop rows with outliers.\n",
    "Transform Outliers: Apply transformations (e.g., log transformation) to reduce their impact.\n",
    "Cap and Floor: Limit the values within a specified range.\n"
   ]
  }
 ],
 "metadata": {
  "language_info": {
   "name": "python"
  }
 },
 "nbformat": 4,
 "nbformat_minor": 2
}
