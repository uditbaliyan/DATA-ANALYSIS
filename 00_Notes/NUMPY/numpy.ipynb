{
 "cells": [
  {
   "cell_type": "code",
   "execution_count": 1,
   "metadata": {},
   "outputs": [],
   "source": [
    "import numpy as np\n",
    "# help(method_name)\n",
    "# help(max)\n",
    "# From a Python List or Tuple: You can create a NumPy array from a Python list or tuple using the numpy.array() function."
   ]
  },
  {
   "cell_type": "markdown",
   "metadata": {},
   "source": [
    "# NumPy (Numerical Python)\n",
    "\n",
    "• NumPy is an open source Python library and is written partially in Python,\n",
    "but most of the parts that require fast computation are written in C or C++.\n",
    "\n",
    "• It’s the universal standard for working with numerical data in Python, and\n",
    "it’s at the core of the scientific Python and PyData ecosystems (Numpy,\n",
    "Scipy, Pandas, Scikit-Learn, etc.)\n",
    "\n",
    "• It provides ndarray, a homogeneous n-dimensional array object, with\n",
    "methods to efficiently operate on it.\n",
    "\n",
    "• NumPy can be used to perform a wide variety of mathematical operations\n",
    "on arrays. It adds powerful data structures to Python that guarantee\n",
    "efficient calculations with arrays and matrices and it supplies an enormous\n",
    "library of high-level mathematical functions that operate on these arrays\n",
    "and matrices.\n",
    "\n",
    "• NumPy is a general-purpose array-processing package.\n",
    "\n",
    "• It provides a high-performance multidimensional array object, and\n",
    "tools for working with these arrays.\n",
    "\n",
    "• The NumPy API is used extensively in Pandas, SciPy, Matplotlib, scikit-\n",
    "learn, scikit-image and most other data science and scientific Python\n",
    "packages.\n",
    "• It contains various features including these important ones:\n",
    "• A powerful N-dimensional array object\n",
    "• Sophisticated (broadcasting) functions\n",
    "• Tools for integrating C/C++ and Fortran code\n",
    "• Useful linear algebra, Fourier transform, and random number capabilities"
   ]
  },
  {
   "cell_type": "markdown",
   "metadata": {},
   "source": [
    "# Why Use NumPy?\n",
    "\n",
    "• In Python we have lists that serve the purpose of arrays, but they are\n",
    "slow to process.\n",
    "\n",
    "• NumPy aims to provide an array object that is up to 50x faster than\n",
    "traditional Python lists.\n",
    "\n",
    "• The Python NumPy array consumes less memory than lists.\n",
    "\n",
    "• The array object in NumPy is called ndarray, it provides a lot of\n",
    "supporting functions that make working with ndarray very easy.\n",
    "\n",
    "• Arrays are very frequently used in data science, where speed and\n",
    "resources are very important."
   ]
  },
  {
   "cell_type": "code",
   "execution_count": 2,
   "metadata": {},
   "outputs": [],
   "source": [
    "my_list = [1, 2, 3, 4, 5]\n",
    "existing_array = np.array([[1, 2, 3], [4, 5, 6]])\n",
    "a = np.array([11, 11, 12, 13, 14, 15, 16, 17, 12, 13, 11, 14, 18, 19, 20])\n",
    "\n"
   ]
  },
  {
   "cell_type": "code",
   "execution_count": 3,
   "metadata": {},
   "outputs": [
    {
     "name": "stdout",
     "output_type": "stream",
     "text": [
      "np.arange(1, 10, 2) - [ 0.   2.5  5.   7.5 10. ]\n",
      "np.linspace(0, 10, 5) - [1 3 5 7 9]\n"
     ]
    }
   ],
   "source": [
    "my_array = np.array(my_list)\n",
    "\n",
    "my_arange_array = np.arange(1, 10, 2) # create an array with a range of elements\n",
    "my_linspace_array = np.linspace(0, 10, 5) # Create array with linearly spaced values\n",
    "\n",
    "print(f\"np.arange(1, 10, 2) - {my_linspace_array}\")\n",
    "print(f\"np.linspace(0, 10, 5) - {my_arange_array}\")"
   ]
  },
  {
   "cell_type": "code",
   "execution_count": 5,
   "metadata": {},
   "outputs": [
    {
     "name": "stdout",
     "output_type": "stream",
     "text": [
      "np.zeros((3, 3)) - \n",
      "[[0. 0. 0.]\n",
      " [0. 0. 0.]\n",
      " [0. 0. 0.]]\n",
      "np.ones((2, 4)) - \n",
      "[[1. 1. 1. 1.]\n",
      " [1. 1. 1. 1.]]\n",
      "np.full((2,2), 7) - \n",
      "[[7 7]\n",
      " [7 7]]\n"
     ]
    }
   ],
   "source": [
    "\n",
    "zeros_array = np.zeros((3, 3))  # Creates a 3x3 array filled with zeros\n",
    "ones_array = np.ones((2, 4))     # Creates a 2x4 array filled with ones\n",
    "my_full_array = np.full((2,2), 7)\n",
    "\n",
    "print(f\"np.zeros((3, 3)) - \\n{zeros_array}\")\n",
    "print(f\"np.ones((2, 4)) - \\n{ones_array}\")\n",
    "print(f\"np.full((2,2), 7) - \\n{my_full_array}\")\n"
   ]
  },
  {
   "cell_type": "code",
   "execution_count": 7,
   "metadata": {},
   "outputs": [
    {
     "name": "stdout",
     "output_type": "stream",
     "text": [
      "np.random.rand(3, 3) - \n",
      "[[0.31632802 0.77479885 0.00221376]\n",
      " [0.43269026 0.49060344 0.61257712]\n",
      " [0.92771779 0.42178906 0.19961574]]\n",
      "np.random.random((3,2)) - \n",
      "[[0.55696012 0.68159275]\n",
      " [0.32944046 0.85694371]\n",
      " [0.49262789 0.39979805]]\n"
     ]
    }
   ],
   "source": [
    "# Create array filled with random values\n",
    "\n",
    "random_array_rand = np.random.rand(3, 3)\n",
    "random_array_random=np.random.random((3,2))\n",
    "\n",
    "print(f\"np.random.rand(3, 3) - \\n{random_array_rand}\")\n",
    "print(f\"np.random.random((3,2)) - \\n{random_array_random}\")"
   ]
  },
  {
   "cell_type": "code",
   "execution_count": 9,
   "metadata": {},
   "outputs": [
    {
     "name": "stdout",
     "output_type": "stream",
     "text": [
      "a - [11 11 12 13 14 15 16 17 12 13 11 14 18 19 20]\n",
      "np.unique(a) - [11 12 13 14 15 16 17 18 19 20]\n",
      "np.flip(a) - [20 19 18 14 11 13 12 17 16 15 14 13 12 11 11]\n"
     ]
    }
   ],
   "source": [
    "unique_values = np.unique(a) # work like set\n",
    "reversed_arr = np.flip(a) # reverse array\n",
    "\n",
    "print(f\"a - {a}\")\n",
    "print(f\"np.unique(a) - {unique_values}\")\n",
    "print(f\"np.flip(a) - {reversed_arr}\")"
   ]
  },
  {
   "cell_type": "code",
   "execution_count": 11,
   "metadata": {},
   "outputs": [
    {
     "name": "stdout",
     "output_type": "stream",
     "text": [
      "[12.+0.j 45.+0.j  3.+0.j]\n"
     ]
    }
   ],
   "source": [
    "\n",
    "new_array = np.array(existing_array, dtype=float)\n",
    "arr=np.array([12,45.,3.],dtype=complex)\n",
    "\n",
    "print(f\"{arr}\")"
   ]
  },
  {
   "cell_type": "code",
   "execution_count": 14,
   "metadata": {},
   "outputs": [
    {
     "name": "stdout",
     "output_type": "stream",
     "text": [
      "np.empty((2,3)) - \n",
      "[[12.  0. 45.]\n",
      " [ 0.  3.  0.]]\n",
      "np.eye((2,3)) - \n",
      "[[1. 0. 0.]\n",
      " [0. 1. 0.]\n",
      " [0. 0. 1.]]\n"
     ]
    }
   ],
   "source": [
    "# Identity matrix – all are 2-dimensional\n",
    "Identity_matrix = np.eye(3)\n",
    "\n",
    "empty_array=np.empty((2,3)) # Create an Empty array\n",
    "\n",
    "a=Identity_matrix.__array__(int) #convert the content to int type\n",
    "\n",
    "print(f\"np.empty((2,3)) - \\n{empty_array}\")\n",
    "print(f\"np.eye((2,3)) - \\n{Identity_matrix}\")"
   ]
  },
  {
   "cell_type": "code",
   "execution_count": 15,
   "metadata": {},
   "outputs": [
    {
     "name": "stdout",
     "output_type": "stream",
     "text": [
      "[[ 1  2  3  4]\n",
      " [ 5  6  7  8]\n",
      " [ 9 10 11 12]]\n",
      "[ 1  2  3  4  5  6  7  8  9 10 11 12]\n",
      "[[ 1  2  3  4]\n",
      " [ 5  6  7  8]\n",
      " [ 9 10 11 12]]\n",
      "[ 1  2  3  4  5  6  7  8  9 10 11 12]\n"
     ]
    }
   ],
   "source": [
    "# Reshaping and flattening multidimensional arrays\n",
    "x = np.array([[1 , 2, 3, 4], [5, 6, 7, 8], [9, 10, 11, 12]])\n",
    "print(f\"{x}\\nflatten - {x.flatten()}\")\n",
    "\n",
    "# But when you use ravel, the changes you make to the new array will affect the parent array.\n",
    "a2 = x.ravel()\n",
    "\n",
    "print(f\"Original array - {x}\")  # Original array\n",
    "print(a2)  # New array\n"
   ]
  },
  {
   "cell_type": "code",
   "execution_count": 18,
   "metadata": {},
   "outputs": [
    {
     "name": "stdout",
     "output_type": "stream",
     "text": [
      "[2 1 5 3 7 4 6 8]\n",
      "np.sort(arr) - [1 2 3 4 5 6 7 8]\n"
     ]
    },
    {
     "data": {
      "text/plain": [
       "'\\nIn addition to sort, which returns a sorted copy of an array, you can use:\\n\\nargsort, which is an indirect sort along a specified axis,\\nlexsort, which is an indirect stable sort on multiple keys,\\nsearchsorted, which will find elements in a sorted array, and partition, which is a partial sort.\\n'"
      ]
     },
     "execution_count": 18,
     "metadata": {},
     "output_type": "execute_result"
    }
   ],
   "source": [
    "# sort\n",
    "\n",
    "arr = np.array([2, 1, 5, 3, 7, 4, 6, 8])\n",
    "# You can quickly sort the numbers in ascending order with:\n",
    "print(f\"{arr}\")\n",
    "print(f\"np.sort(arr) - {np.sort(arr)}\")\n",
    "# array([1, 2, 3, 4, 5, 6, 7, 8])\n",
    "\n",
    "\"\"\"\n",
    "In addition to sort, which returns a sorted copy of an array, you can use:\n",
    "\n",
    "argsort, which is an indirect sort along a specified axis,\n",
    "lexsort, which is an indirect stable sort on multiple keys,\n",
    "searchsorted, which will find elements in a sorted array, and partition, which is a partial sort.\n",
    "\"\"\""
   ]
  },
  {
   "cell_type": "code",
   "execution_count": 23,
   "metadata": {},
   "outputs": [
    {
     "name": "stdout",
     "output_type": "stream",
     "text": [
      "[1 2 3 4]+[5 6 7 8]=[1 2 3 4 5 6 7 8]\n",
      "\n",
      "[[1 2]\n",
      " [3 4]]\n",
      "+\n",
      "[[5 6]]\n",
      "\n",
      "[[1 2]\n",
      " [3 4]\n",
      " [5 6]]\n"
     ]
    }
   ],
   "source": [
    "# concatenate\n",
    "a = np.array([1, 2, 3, 4])\n",
    "b = np.array([5, 6, 7, 8])\n",
    "\n",
    "# np.concatenate((a, b))\n",
    "print(f\"{a}+{b}={np.concatenate((a, b))}\\n\")\n",
    "\n",
    "\n",
    "x = np.array([[1, 2], [3, 4]])\n",
    "y = np.array([[5, 6]])\n",
    "\n",
    "# np.concatenate((x, y), axis=0)\n",
    "print(f\"{x}\\n+\\n{y}\\n\\n{np.concatenate((x, y), axis=0)}\")\n"
   ]
  },
  {
   "cell_type": "code",
   "execution_count": 24,
   "metadata": {},
   "outputs": [
    {
     "name": "stdout",
     "output_type": "stream",
     "text": [
      "[0 1 2 3 4 5]\n",
      "[[0 1]\n",
      " [2 3]\n",
      " [4 5]]\n"
     ]
    },
    {
     "data": {
      "text/plain": [
       "'\\norder: C means to read/write the elements using C-like index order, \\nF means to read/write the elements using Fortran-like index order, \\nA means to read/write the elements in Fortran-like index order if \\na is Fortran contiguous in memory, C-like order otherwise. \\n(This is an optional parameter and doesn’t need to be specified.)\\n'"
      ]
     },
     "execution_count": 24,
     "metadata": {},
     "output_type": "execute_result"
    }
   ],
   "source": [
    "# Can you reshape an array?\n",
    "array_example = np.array([[[0, 1, 2, 3],\n",
    "                           [4, 5, 6, 7]],\n",
    "\n",
    "                          [[0, 1, 2, 3],\n",
    "                           [4, 5, 6, 7]],\n",
    "\n",
    "                          [[0 ,1 ,2, 3],\n",
    "                           [4, 5, 6, 7]]])\n",
    "array_example.ndim\n",
    "array_example.size # 24\n",
    "array_example.shape # (3, 2, 4)\n",
    "\n",
    "a = np.arange(6)\n",
    "print(a)\n",
    "\n",
    "b = a.reshape(3, 2)\n",
    "print(b)\n",
    "\n",
    "np.reshape(a, newshape=(1, 6), order='C')\n",
    "# array([[0, 1, 2, 3, 4, 5]])\n",
    "\"\"\"\n",
    "a is the array to be reshaped.\n",
    "\"\"\"\n",
    "\"\"\"\n",
    "newshape is the new shape you want. You can specify an integer or a tuple of integers. \n",
    "If you specify an integer, the result will be an array of that length.\n",
    "The shape should be compatible with the original shape.\n",
    "\"\"\"\n",
    "\"\"\"\n",
    "order: C means to read/write the elements using C-like index order, \n",
    "F means to read/write the elements using Fortran-like index order, \n",
    "A means to read/write the elements in Fortran-like index order if \n",
    "a is Fortran contiguous in memory, C-like order otherwise. \n",
    "(This is an optional parameter and doesn’t need to be specified.)\n",
    "\"\"\""
   ]
  },
  {
   "cell_type": "code",
   "execution_count": 26,
   "metadata": {},
   "outputs": [
    {
     "name": "stdout",
     "output_type": "stream",
     "text": [
      "[[1 2 3]\n",
      " [4 5 6]]\n",
      "a.shape = (2, 3)\n",
      "reshape = \n",
      "[[1 2]\n",
      " [3 4]\n",
      " [5 6]]\n",
      "a.ndim = 2\n",
      "a.dtype = int64\n",
      "a.itemsize = 8\n",
      "a.size = 6\n",
      "a.T = \n",
      "[[1 4]\n",
      " [2 5]\n",
      " [3 6]]\n"
     ]
    }
   ],
   "source": [
    "# Attributes of numpy array\n",
    "a = np.array([[1,2,3],[4,5,6]])\n",
    "shape= a.shape\n",
    "reshape= a.reshape(3,2)\n",
    "ndim=a.ndim\n",
    "dtype=a.dtype\n",
    "itemsize=a.itemsize #This array attribute returns the length of each element of array in bytes.\n",
    "size=a.size\n",
    "T=a.T\n",
    "\n",
    "print(f\"{a}\")\n",
    "print(f\"a.shape = {shape}\")\n",
    "print(f\"reshape = \\n{reshape}\")\n",
    "print(f\"a.ndim = {ndim}\")\n",
    "print(f\"a.dtype = {dtype}\")\n",
    "print(f\"a.itemsize = {itemsize}\")\n",
    "print(f\"a.size = {size}\")\n",
    "print(f\"a.T = \\n{T}\")\n"
   ]
  },
  {
   "cell_type": "code",
   "execution_count": null,
   "metadata": {},
   "outputs": [],
   "source": [
    "# NumPy Array Indexing\n"
   ]
  },
  {
   "cell_type": "code",
   "execution_count": null,
   "metadata": {},
   "outputs": [],
   "source": [
    "# Slicing arrays"
   ]
  },
  {
   "cell_type": "code",
   "execution_count": null,
   "metadata": {},
   "outputs": [],
   "source": [
    "# Data Types in NumPy\n",
    "\n",
    "i4 = np.array([1, 2, 3, 4], dtype='i4')  # dtype('int32')\n",
    "int32 = np.array([1, 2, 3, 4], dtype='int32')  # dtype('int32')\n",
    "uint = np.array([1111, 24, 333, 41],dtype='uint')  # unsigned int\n",
    "\n",
    "bool = np.array([1, 0, 3],dtype='bool' )\n",
    "\n",
    "float=np.array([1,2.2,3.,40],dtype=float)\n",
    "float32=np.array([1,2.2,3.,40],dtype='float32')\n",
    "\n",
    "complex=np.array([12+2j,45.,3.],dtype=complex)\n",
    "\n",
    "Unicode = np.array(['C++', 'Python', 'Java']) #dtype('<U6’) #Unicode string of maximum length 6\n",
    "arr = np.array(['C++', 'Python', 'Java'],dtype='U')\n",
    "String = np.array([11, 24, 333, 41], dtype='S' ) #’S’ means String"
   ]
  },
  {
   "cell_type": "markdown",
   "metadata": {},
   "source": [
    "# if a Value Can Not Be Converted to the mentioned datatype\n",
    "• If a type is given in which elements can't be casted then NumPy will\n",
    "raise a ValueError.\n",
    "# ValueError: In Python ValueError is raised when the type of passed\n",
    "argument to a function is unexpected/incorrect.\n",
    "\n",
    ">>> arr = np.array(['a', '2', '3'], dtype='i')\n",
    "Traceback (most recent call last):\n",
    "File \"<pyshell#9>\", line 1, in <module>\n",
    "arr = np.array(['a', '2', '3'], dtype='i')\n",
    "ValueError: invalid literal for int() with base 10: 'a'"
   ]
  },
  {
   "cell_type": "code",
   "execution_count": 27,
   "metadata": {},
   "outputs": [],
   "source": [
    "# Converting Data Type on Existing Arrays\n",
    "arr = np.array([1.1, 2.8, 3.1])\n",
    "arr.dtype\n",
    "\n",
    "newarr = arr.astype('i')\n",
    "newarr\n",
    "\n",
    "newarr = arr.astype('int')\n",
    "newarr.dtype\n",
    "\n",
    "arr = np.array([1, 0, 3])\n",
    "newarray=arr.astype(bool)"
   ]
  },
  {
   "cell_type": "markdown",
   "metadata": {},
   "source": [
    "# numpy Aggregate Functions\n",
    "\n",
    "# np.mean()\n",
    "  Compute the arithmetic mean along the specified axis.\n",
    "\n",
    "# np.std()\n",
    "  Compute the standard deviation along the specified axis.\n",
    "\n",
    "# np.var()\n",
    "  Compute the variance along the specified axis.\n",
    "\n",
    "# np.sum()\n",
    "  Sum of array elements over a given axis.\n",
    "\n",
    "# np.prod()\n",
    "  Return the product of array elements over a given axis.\n",
    "\n",
    "# np.cumsum()\n",
    "  Return the cumulative sum of the elements along a given axis.\n",
    "\n",
    "# np.cumprod()\n",
    "  Return the cumulative product of elements along a given axis.\n",
    "\n",
    "# np.min(), np.max()\n",
    "  Return the minimum / maximum of an array or minimum along an axis.\n",
    "\n",
    "# np.argmin(), np.argmax()\n",
    "  Returns the indices of the minimum / maximum values along an axis\n",
    "\n",
    "# np.all()\n",
    "  Test whether all array elements along a given axis evaluate to True.\n",
    "\n",
    "# np.any()\n",
    "  Test whether any array element along a given axis evaluates to True.\n",
    "\n",
    "# np.median()\n",
    "  Compute the median along the specified axis."
   ]
  },
  {
   "cell_type": "code",
   "execution_count": 28,
   "metadata": {},
   "outputs": [
    {
     "data": {
      "text/plain": [
       "1.5555555555555556"
      ]
     },
     "execution_count": 28,
     "metadata": {},
     "output_type": "execute_result"
    }
   ],
   "source": [
    "#  sum(), mean() and var()\n",
    "\n",
    "arr2 = np.array([[0, 10, 20], [30, 40, 50], [60, 70, 80]])\n",
    "arr2.shape\n",
    "arr2.ndim\n",
    "\n",
    "#axis 0 means column\n",
    "#axis 1 means row\n",
    "\n",
    "arr2.sum()\n",
    "arr2.sum(axis=0)\n",
    "arr2.sum(axis=1)\n",
    "\n",
    "arr2.mean()\n",
    "np.mean(arr2,axis=0)\n",
    "\n",
    "arr.std() # standard deviation\n",
    "arr.var()\n"
   ]
  },
  {
   "cell_type": "code",
   "execution_count": 29,
   "metadata": {},
   "outputs": [
    {
     "data": {
      "text/plain": [
       "array([[  0,  10,  30],\n",
       "       [ 30,  70, 120],\n",
       "       [ 60, 130, 210]])"
      ]
     },
     "execution_count": 29,
     "metadata": {},
     "output_type": "execute_result"
    }
   ],
   "source": [
    "arr2 = np.array([[0, 10, 20], [30, 40, 50], [60, 70, 80]])\n",
    "\n",
    "arr2.cumsum()\n",
    "arr2.cumsum(axis=0)\n",
    "arr2.cumsum(axis=1)\n"
   ]
  },
  {
   "cell_type": "code",
   "execution_count": 30,
   "metadata": {},
   "outputs": [
    {
     "data": {
      "text/plain": [
       "array([[    0,    10,    20],\n",
       "       [    0,   400,  1000],\n",
       "       [    0, 28000, 80000]])"
      ]
     },
     "execution_count": 30,
     "metadata": {},
     "output_type": "execute_result"
    }
   ],
   "source": [
    "# prod() and cumprod()\n",
    "arr2 = np.array([[0, 10, 20], [30, 40, 50], [60, 70, 80]])\n",
    "\n",
    "arr2.prod(axis=1)\n",
    "arr2.cumprod(axis=1)\n",
    "arr2.cumprod(axis=0)"
   ]
  },
  {
   "cell_type": "code",
   "execution_count": 31,
   "metadata": {},
   "outputs": [
    {
     "data": {
      "text/plain": [
       "array([ 0, 30, 60])"
      ]
     },
     "execution_count": 31,
     "metadata": {},
     "output_type": "execute_result"
    }
   ],
   "source": [
    "# min()\n",
    "arr2 = np.array([[0, 10, 20], [30, 40, 50], [60, 70, 80]])\n",
    "arr2.min()\n",
    "arr2.min(0)\n",
    "arr2.min(axis=1)"
   ]
  },
  {
   "cell_type": "code",
   "execution_count": 32,
   "metadata": {},
   "outputs": [
    {
     "data": {
      "text/plain": [
       "array([20, 50, 80])"
      ]
     },
     "execution_count": 32,
     "metadata": {},
     "output_type": "execute_result"
    }
   ],
   "source": [
    "# max()\n",
    "arr2 = np.array([[0, 10, 20], [30, 40, 50], [60, 70, 80]])\n",
    "arr2.max(0)\n",
    "arr2.max(1)"
   ]
  },
  {
   "cell_type": "code",
   "execution_count": 33,
   "metadata": {},
   "outputs": [
    {
     "data": {
      "text/plain": [
       "array([2, 0, 1])"
      ]
     },
     "execution_count": 33,
     "metadata": {},
     "output_type": "execute_result"
    }
   ],
   "source": [
    "# argmax() and argmin()\n",
    "\n",
    "arr2 = np.array([[100, 500, 55], [30, 40, 50], [600, 70, 80]])\n",
    "\n",
    "np.argmax(arr2)\n",
    "np.argmax(arr2,axis=0)\n",
    "np.argmax(arr2,axis=1)\n",
    "\n",
    "np.argmin(arr2)\n",
    "np.argmin(arr2,axis=0)\n",
    "np.argmin(arr2,axis=1)\n"
   ]
  },
  {
   "cell_type": "code",
   "execution_count": 34,
   "metadata": {},
   "outputs": [
    {
     "data": {
      "text/plain": [
       "array([False,  True,  True])"
      ]
     },
     "execution_count": 34,
     "metadata": {},
     "output_type": "execute_result"
    }
   ],
   "source": [
    "# any() and all()\n",
    "\n",
    "arr2 = np.array([[0, 500, 55], [30, 40, 50], [600, 70, 80]])\n",
    "np.any(arr2)\n",
    "np.all(arr2)\n",
    "\n",
    "np.any(arr2,axis=0)\n",
    "np.any(arr2,axis=1)\n",
    "\n",
    "\n",
    "np.all(arr2,axis=0)\n",
    "np.all(arr2,axis=1)\n"
   ]
  },
  {
   "cell_type": "code",
   "execution_count": null,
   "metadata": {},
   "outputs": [],
   "source": [
    "# median()\n",
    "np.median(arr2)\n",
    "np.median(arr2,axis=0)\n"
   ]
  },
  {
   "cell_type": "markdown",
   "metadata": {},
   "source": [
    "# Element-wise Operations\n",
    "\n",
    "# np.add(), np.subtract(),np.multiply(), np.divide()  \n",
    "Addition, subtraction, multiplication, and division of arguments(NumPy arrays) element-wise.\n",
    "\n",
    "# np.power()   \n",
    "First array elements raised to powers from second array, element-wise.\n",
    "\n",
    "# np.remainder()\n",
    "Return element-wise remainder of division.\n",
    "\n",
    "# np.reciprocal()\n",
    "Return the reciprocal of the argument, element-wise.\n",
    "\n",
    "# np.sign(), np.abs()\n",
    "Return sign and the absolute value.\n",
    "\n",
    "# np.floor(), np.ceil()\n",
    "Return the floor, ceiling of the input, element-wise.\n",
    "\n",
    "# np.round()\n",
    "Round a number to a given precision in decimal digits (default 0 digits)."
   ]
  },
  {
   "cell_type": "code",
   "execution_count": null,
   "metadata": {},
   "outputs": [],
   "source": [
    "x = np.array([[1,2],[3,4]], dtype=np.int32)\n",
    "y = np.array([[5,6],[7,8]], dtype=np.int32)\n",
    "\n",
    "np.add(x, y)\n",
    "x+y\n",
    "\n",
    "x*y\n",
    "np.multiply(x,y)\n",
    "\n",
    "x/y \n",
    "np.divide(x,y)\n",
    "\n",
    "np.power(x,y)\n",
    "\n",
    "x%y\n",
    "np.remainder(x,y)\n",
    "\n",
    "np.reciprocal(a)\n",
    "np.sign(a)\n",
    "np.abs(a)\n",
    "np.floor(a)\n",
    "np.ceil(a)\n",
    "np.round(a,3)\n",
    "np.sqrt(y)"
   ]
  },
  {
   "cell_type": "code",
   "execution_count": null,
   "metadata": {},
   "outputs": [],
   "source": [
    "# Other element-wise operations : Python numpy Array maximum / minimum\n",
    "\n",
    "a = np.array([1, 20, 5, 22, 8, 15])\n",
    "b = np.array([12, 9, 3, 42, 6, 33])\n",
    "\n",
    "np.maximum(a,b)\n",
    "np.minimum(a,b)\n",
    "\n",
    "# Other element-wise operations : Logical operations\n",
    "\n",
    "a = np.array([5, 2, 0, 0], dtype=bool)\n",
    "b = np.array([11, 0, 7, 0], dtype=bool)\n",
    "\n",
    "np.logical_or(a,b)\n",
    "np.logical_and(a,b)\n",
    "\n",
    "# Other element-wise operations : Comparisons\n",
    "\n",
    "a = np.array([1, 2, 3, 4])\n",
    "b = np.array([4, 2, 2, 4])\n",
    "\n",
    "\n",
    "a==b\n",
    "a!=b\n",
    "a>b\n",
    "a<b\n",
    "a>=b\n",
    "a<=b\n",
    "\n"
   ]
  },
  {
   "cell_type": "code",
   "execution_count": null,
   "metadata": {},
   "outputs": [],
   "source": [
    "# Array-wise comparisons : (element-wise output is not produced)\n",
    "\n",
    "a = np.array([1, 2, 3, 4])\n",
    "b = np.array([4, 2, 2, 4])\n",
    "c = np.array([1, 2, 3, 4])\n",
    "\n",
    "np.array_equal(a,b)\n",
    "np.array_equal(a,c)\n",
    "\n",
    "# Other operations : dot product\n",
    "\n",
    "x=np.array([1,2,3,4])\n",
    "y=np.array([2,2,3,3])\n",
    "np.dot(x,y)\n",
    "\n",
    "a = np.array([[1,2],[3,4]])\n",
    "b = np.array([[11,12],[13,14]])\n",
    "np.dot(a,b)"
   ]
  },
  {
   "cell_type": "markdown",
   "metadata": {},
   "source": [
    "# How to save and load NumPy objects\n",
    "a = np.array([1, 2, 3, 4, 5, 6])\n",
    "np.save('filename', a)\n",
    "b = np.load('filename.npy')\n",
    "\n",
    "csv_arr = np.array([1, 2, 3, 4, 5, 6, 7, 8])\n",
    "np.savetxt('new_file.csv', csv_arr)\n",
    "np.loadtxt('new_file.csv')"
   ]
  },
  {
   "cell_type": "code",
   "execution_count": null,
   "metadata": {},
   "outputs": [],
   "source": [
    "# Importing and exporting a CSV\n",
    "\n",
    "import pandas as pd\n",
    "\n",
    "# If all of your columns are the same type:\n",
    "x = pd.read_csv('music.csv', header=0).values\n",
    "print(x)\n",
    "\n",
    "# You can also simply select the columns you need:\n",
    "x = pd.read_csv('music.csv', usecols=['Artist', 'Plays']).values\n",
    "print(x)\n",
    "\n",
    "a = np.array([[-2.58289208,  0.43014843, -1.24082018, 1.59572603],\n",
    "              [ 0.99027828, 1.17150989,  0.94125714, -0.14692469],\n",
    "              [ 0.76989341,  0.81299683, -0.95068423, 0.11769564],\n",
    "              [ 0.20484034,  0.34784527,  1.96979195, 0.51992837]])\n",
    "df = pd.DataFrame(a)\n",
    "print(df)\n",
    "df.to_csv('pd.csv')\n",
    "\n",
    "data = pd.read_csv('pd.csv')\n",
    "np.savetxt('np.csv', a, fmt='%.2f', delimiter=',', header='1,  2,  3,  4')"
   ]
  }
 ],
 "metadata": {
  "kernelspec": {
   "display_name": "env",
   "language": "python",
   "name": "python3"
  },
  "language_info": {
   "codemirror_mode": {
    "name": "ipython",
    "version": 3
   },
   "file_extension": ".py",
   "mimetype": "text/x-python",
   "name": "python",
   "nbconvert_exporter": "python",
   "pygments_lexer": "ipython3",
   "version": "3.11.2"
  }
 },
 "nbformat": 4,
 "nbformat_minor": 2
}
